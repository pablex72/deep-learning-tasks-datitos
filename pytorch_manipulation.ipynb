{
  "nbformat": 4,
  "nbformat_minor": 0,
  "metadata": {
    "colab": {
      "provenance": [],
      "authorship_tag": "ABX9TyPAzeUVfDERDPX5ogN024UW",
      "include_colab_link": true
    },
    "kernelspec": {
      "name": "python3",
      "display_name": "Python 3"
    },
    "language_info": {
      "name": "python"
    }
  },
  "cells": [
    {
      "cell_type": "markdown",
      "metadata": {
        "id": "view-in-github",
        "colab_type": "text"
      },
      "source": [
        "<a href=\"https://colab.research.google.com/github/pablex72/deep-learning-tasks-datitos/blob/main/pytorch_manipulation.ipynb\" target=\"_parent\"><img src=\"https://colab.research.google.com/assets/colab-badge.svg\" alt=\"Open In Colab\"/></a>"
      ]
    },
    {
      "cell_type": "code",
      "execution_count": 1,
      "metadata": {
        "id": "z4lxoA19tVMN"
      },
      "outputs": [],
      "source": [
        "import torch"
      ]
    },
    {
      "cell_type": "code",
      "source": [
        "x = torch.arange(12, dtype=torch.float32)\n",
        "x"
      ],
      "metadata": {
        "colab": {
          "base_uri": "https://localhost:8080/"
        },
        "id": "orM4R3sKt8ez",
        "outputId": "40497ddf-0eea-4da5-d2e9-8ce7e7b5cd2a"
      },
      "execution_count": 3,
      "outputs": [
        {
          "output_type": "execute_result",
          "data": {
            "text/plain": [
              "tensor([ 0.,  1.,  2.,  3.,  4.,  5.,  6.,  7.,  8.,  9., 10., 11.])"
            ]
          },
          "metadata": {},
          "execution_count": 3
        }
      ]
    },
    {
      "cell_type": "code",
      "source": [
        "x.shape"
      ],
      "metadata": {
        "colab": {
          "base_uri": "https://localhost:8080/"
        },
        "id": "78s01B_h1hrM",
        "outputId": "20359886-2cdc-40c6-b2c8-616e5478f0bc"
      },
      "execution_count": 4,
      "outputs": [
        {
          "output_type": "execute_result",
          "data": {
            "text/plain": [
              "torch.Size([12])"
            ]
          },
          "metadata": {},
          "execution_count": 4
        }
      ]
    },
    {
      "cell_type": "code",
      "source": [
        "x.numel()"
      ],
      "metadata": {
        "colab": {
          "base_uri": "https://localhost:8080/"
        },
        "id": "rcH0Xsll1ogw",
        "outputId": "b35e0785-3bb4-40da-c4e9-58cadc2936b3"
      },
      "execution_count": 5,
      "outputs": [
        {
          "output_type": "execute_result",
          "data": {
            "text/plain": [
              "12"
            ]
          },
          "metadata": {},
          "execution_count": 5
        }
      ]
    },
    {
      "cell_type": "code",
      "source": [
        "X = x.reshape(3,4)\n",
        "X"
      ],
      "metadata": {
        "colab": {
          "base_uri": "https://localhost:8080/"
        },
        "id": "nMRvUFVB1odc",
        "outputId": "0cd08f59-c702-4e59-9eda-aa7ca80ebc08"
      },
      "execution_count": 6,
      "outputs": [
        {
          "output_type": "execute_result",
          "data": {
            "text/plain": [
              "tensor([[ 0.,  1.,  2.,  3.],\n",
              "        [ 4.,  5.,  6.,  7.],\n",
              "        [ 8.,  9., 10., 11.]])"
            ]
          },
          "metadata": {},
          "execution_count": 6
        }
      ]
    },
    {
      "cell_type": "code",
      "source": [
        "X = x.reshape(4,-1)\n",
        "X"
      ],
      "metadata": {
        "colab": {
          "base_uri": "https://localhost:8080/"
        },
        "id": "qbQ3Ebub1-tx",
        "outputId": "ec4d90f3-3a25-4b80-e215-7801ee17b4f3"
      },
      "execution_count": 8,
      "outputs": [
        {
          "output_type": "execute_result",
          "data": {
            "text/plain": [
              "tensor([[ 0.,  1.,  2.],\n",
              "        [ 3.,  4.,  5.],\n",
              "        [ 6.,  7.,  8.],\n",
              "        [ 9., 10., 11.]])"
            ]
          },
          "metadata": {},
          "execution_count": 8
        }
      ]
    },
    {
      "cell_type": "code",
      "source": [
        "torch.zeros((2,3,4))"
      ],
      "metadata": {
        "colab": {
          "base_uri": "https://localhost:8080/"
        },
        "id": "_emkXWGD2V3I",
        "outputId": "65318f5b-663b-4d2d-ffa6-112c2379013e"
      },
      "execution_count": 9,
      "outputs": [
        {
          "output_type": "execute_result",
          "data": {
            "text/plain": [
              "tensor([[[0., 0., 0., 0.],\n",
              "         [0., 0., 0., 0.],\n",
              "         [0., 0., 0., 0.]],\n",
              "\n",
              "        [[0., 0., 0., 0.],\n",
              "         [0., 0., 0., 0.],\n",
              "         [0., 0., 0., 0.]]])"
            ]
          },
          "metadata": {},
          "execution_count": 9
        }
      ]
    },
    {
      "cell_type": "code",
      "source": [
        "torch.ones((2,3,4))"
      ],
      "metadata": {
        "colab": {
          "base_uri": "https://localhost:8080/"
        },
        "id": "3v-5mBZq2obh",
        "outputId": "e5805ffa-ce7f-4177-f7ca-78beffa2ed18"
      },
      "execution_count": 10,
      "outputs": [
        {
          "output_type": "execute_result",
          "data": {
            "text/plain": [
              "tensor([[[1., 1., 1., 1.],\n",
              "         [1., 1., 1., 1.],\n",
              "         [1., 1., 1., 1.]],\n",
              "\n",
              "        [[1., 1., 1., 1.],\n",
              "         [1., 1., 1., 1.],\n",
              "         [1., 1., 1., 1.]]])"
            ]
          },
          "metadata": {},
          "execution_count": 10
        }
      ]
    },
    {
      "cell_type": "code",
      "source": [
        "torch.randn(3,4)"
      ],
      "metadata": {
        "colab": {
          "base_uri": "https://localhost:8080/"
        },
        "id": "NkQyv4I62vgi",
        "outputId": "e83e613f-627e-49f5-f1cf-69a52536b552"
      },
      "execution_count": 11,
      "outputs": [
        {
          "output_type": "execute_result",
          "data": {
            "text/plain": [
              "tensor([[ 0.2562, -0.9653, -1.3832,  0.0915],\n",
              "        [ 2.9005, -1.0564,  0.2126, -0.2508],\n",
              "        [ 0.5231, -3.1458,  0.2815, -0.5926]])"
            ]
          },
          "metadata": {},
          "execution_count": 11
        }
      ]
    },
    {
      "cell_type": "markdown",
      "source": [
        "array de tres dimensiones"
      ],
      "metadata": {
        "id": "0EkYHtw33TyX"
      }
    },
    {
      "cell_type": "code",
      "source": [
        "torch.tensor([[[2,1,4,3],[1,2,3,4]],[[4,3,2,1],[4,3,2,1]]])"
      ],
      "metadata": {
        "colab": {
          "base_uri": "https://localhost:8080/"
        },
        "id": "1LoW8AgR21wA",
        "outputId": "4dbcb9fb-26dc-4912-ab8f-dd2524c0b508"
      },
      "execution_count": 12,
      "outputs": [
        {
          "output_type": "execute_result",
          "data": {
            "text/plain": [
              "tensor([[[2, 1, 4, 3],\n",
              "         [1, 2, 3, 4]],\n",
              "\n",
              "        [[4, 3, 2, 1],\n",
              "         [4, 3, 2, 1]]])"
            ]
          },
          "metadata": {},
          "execution_count": 12
        }
      ]
    },
    {
      "cell_type": "markdown",
      "source": [
        "OPERACIONES"
      ],
      "metadata": {
        "id": "nJzcwraN3dmC"
      }
    },
    {
      "cell_type": "markdown",
      "source": [
        "Se haran las operaciones elemento a elemento a no ser que indiquemos que apliquen producto punto"
      ],
      "metadata": {
        "id": "g8wowUza3k4E"
      }
    },
    {
      "cell_type": "code",
      "source": [
        "x = torch.tensor([1,2,4,8])\n",
        "y = torch.tensor([2,2,2,2])\n",
        "x+y, x-y, x*y, x/y, x**y #The ** operator is exponentiation\n",
        "\n",
        "torch.dot(x,y)"
      ],
      "metadata": {
        "colab": {
          "base_uri": "https://localhost:8080/"
        },
        "id": "GXGZXK1G3fPm",
        "outputId": "2d3264c6-d87a-4ea2-c58f-42040c854506"
      },
      "execution_count": 14,
      "outputs": [
        {
          "output_type": "execute_result",
          "data": {
            "text/plain": [
              "tensor(30)"
            ]
          },
          "metadata": {},
          "execution_count": 14
        }
      ]
    },
    {
      "cell_type": "code",
      "source": [
        "torch.exp(x)"
      ],
      "metadata": {
        "colab": {
          "base_uri": "https://localhost:8080/"
        },
        "id": "wjI1nxts4ks5",
        "outputId": "4e163d54-cb69-4173-b0a8-e9519c07ac51"
      },
      "execution_count": 15,
      "outputs": [
        {
          "output_type": "execute_result",
          "data": {
            "text/plain": [
              "tensor([2.7183e+00, 7.3891e+00, 5.4598e+01, 2.9810e+03])"
            ]
          },
          "metadata": {},
          "execution_count": 15
        }
      ]
    },
    {
      "cell_type": "markdown",
      "source": [
        "BROADCASTING MECHANISM (when shapes differ)"
      ],
      "metadata": {
        "id": "ujxNvHpy45qv"
      }
    },
    {
      "cell_type": "code",
      "source": [
        "a = torch.arange(3).reshape((3,1)) # dame una arreglo de 3 y reformalo como 3 filas y 1 columnas\n",
        "b = torch.arange(2).reshape((1,2)) # dame un arreglo de 2 y reformalo como 1 fila y 2 columnas\n",
        "a, b"
      ],
      "metadata": {
        "colab": {
          "base_uri": "https://localhost:8080/"
        },
        "id": "mJIkCFF948Nd",
        "outputId": "af54cb84-00d6-4939-9d27-0f0d6337a14a"
      },
      "execution_count": 16,
      "outputs": [
        {
          "output_type": "execute_result",
          "data": {
            "text/plain": [
              "(tensor([[0],\n",
              "         [1],\n",
              "         [2]]), tensor([[0, 1]]))"
            ]
          },
          "metadata": {},
          "execution_count": 16
        }
      ]
    },
    {
      "cell_type": "code",
      "source": [
        "a + b"
      ],
      "metadata": {
        "colab": {
          "base_uri": "https://localhost:8080/"
        },
        "id": "V7li22m56ZW8",
        "outputId": "3b8caff0-e1c9-46fc-f292-0513da491cbf"
      },
      "execution_count": 17,
      "outputs": [
        {
          "output_type": "execute_result",
          "data": {
            "text/plain": [
              "tensor([[0, 1],\n",
              "        [1, 2],\n",
              "        [2, 3]])"
            ]
          },
          "metadata": {},
          "execution_count": 17
        }
      ]
    },
    {
      "cell_type": "code",
      "source": [
        "a + 5"
      ],
      "metadata": {
        "colab": {
          "base_uri": "https://localhost:8080/"
        },
        "id": "NHLoOXiZ6bBk",
        "outputId": "eb36ec76-9980-41c2-b599-74ec379a3200"
      },
      "execution_count": 18,
      "outputs": [
        {
          "output_type": "execute_result",
          "data": {
            "text/plain": [
              "tensor([[5],\n",
              "        [6],\n",
              "        [7]])"
            ]
          },
          "metadata": {},
          "execution_count": 18
        }
      ]
    },
    {
      "cell_type": "markdown",
      "source": [
        "Indexing and Slicing"
      ],
      "metadata": {
        "id": "uClgXvh48K1u"
      }
    },
    {
      "cell_type": "markdown",
      "source": [
        "(-1), select the last element and [1:3] selsects the second and thrid elements"
      ],
      "metadata": {
        "id": "F-Wsb8aW8WqF"
      }
    },
    {
      "cell_type": "code",
      "source": [
        "X[-1], X[1:3]"
      ],
      "metadata": {
        "colab": {
          "base_uri": "https://localhost:8080/"
        },
        "id": "SWqyd5wY8GJ5",
        "outputId": "1c4de538-7cb2-4996-8105-971ea33368c2"
      },
      "execution_count": 19,
      "outputs": [
        {
          "output_type": "execute_result",
          "data": {
            "text/plain": [
              "(tensor([ 9., 10., 11.]), tensor([[3., 4., 5.],\n",
              "         [6., 7., 8.]]))"
            ]
          },
          "metadata": {},
          "execution_count": 19
        }
      ]
    },
    {
      "cell_type": "code",
      "source": [
        "X[1,2] = 9\n",
        "X "
      ],
      "metadata": {
        "colab": {
          "base_uri": "https://localhost:8080/"
        },
        "id": "EvLjO_6bF_Ed",
        "outputId": "a3a0caaf-dadc-440e-ca33-5ebf03c416f2"
      },
      "execution_count": 20,
      "outputs": [
        {
          "output_type": "execute_result",
          "data": {
            "text/plain": [
              "tensor([[ 0.,  1.,  2.],\n",
              "        [ 3.,  4.,  9.],\n",
              "        [ 6.,  7.,  8.],\n",
              "        [ 9., 10., 11.]])"
            ]
          },
          "metadata": {},
          "execution_count": 20
        }
      ]
    },
    {
      "cell_type": "code",
      "source": [
        "X[0:2,:] = 12\n",
        "X"
      ],
      "metadata": {
        "colab": {
          "base_uri": "https://localhost:8080/"
        },
        "id": "NC6TLyE9HSsl",
        "outputId": "a0aeebc7-71f6-4bd7-dd87-34948baa5311"
      },
      "execution_count": 21,
      "outputs": [
        {
          "output_type": "execute_result",
          "data": {
            "text/plain": [
              "tensor([[12., 12., 12.],\n",
              "        [12., 12., 12.],\n",
              "        [ 6.,  7.,  8.],\n",
              "        [ 9., 10., 11.]])"
            ]
          },
          "metadata": {},
          "execution_count": 21
        }
      ]
    },
    {
      "cell_type": "markdown",
      "source": [
        "Conversion to other python objects"
      ],
      "metadata": {
        "id": "s5wivF9IJvJL"
      }
    },
    {
      "cell_type": "code",
      "source": [
        "A = X.numpy()\n",
        "B = torch.tensor(A)\n",
        "type(A), type(B)"
      ],
      "metadata": {
        "colab": {
          "base_uri": "https://localhost:8080/"
        },
        "id": "-Cs0t2t9JuhJ",
        "outputId": "1ade696d-4768-4b86-9ba9-02508d36ff0f"
      },
      "execution_count": 22,
      "outputs": [
        {
          "output_type": "execute_result",
          "data": {
            "text/plain": [
              "(numpy.ndarray, torch.Tensor)"
            ]
          },
          "metadata": {},
          "execution_count": 22
        }
      ]
    },
    {
      "cell_type": "code",
      "source": [
        "a = torch.tensor([3.5])\n",
        "a, a.item(), float(a), int(a)"
      ],
      "metadata": {
        "colab": {
          "base_uri": "https://localhost:8080/"
        },
        "id": "Ayi0JCPULq7s",
        "outputId": "3767b6e6-a6f8-4954-fdfe-da4b6c0257bf"
      },
      "execution_count": 23,
      "outputs": [
        {
          "output_type": "execute_result",
          "data": {
            "text/plain": [
              "(tensor([3.5000]), 3.5, 3.5, 3)"
            ]
          },
          "metadata": {},
          "execution_count": 23
        }
      ]
    }
  ]
}